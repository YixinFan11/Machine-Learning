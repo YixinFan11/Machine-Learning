{
  "nbformat": 4,
  "nbformat_minor": 0,
  "metadata": {
    "colab": {
      "name": "Sheet1_backprop_2hidden.ipynb",
      "provenance": [],
      "include_colab_link": true
    },
    "kernelspec": {
      "name": "python3",
      "display_name": "Python 3"
    }
  },
  "cells": [
    {
      "cell_type": "markdown",
      "metadata": {
        "id": "view-in-github",
        "colab_type": "text"
      },
      "source": [
        "<a href=\"https://colab.research.google.com/github/YixinFan11/Machine-Learning/blob/master/Sheet1_backprop_2hidden.ipynb\" target=\"_parent\"><img src=\"https://colab.research.google.com/assets/colab-badge.svg\" alt=\"Open In Colab\"/></a>"
      ]
    },
    {
      "cell_type": "markdown",
      "metadata": {
        "id": "hq1AS2ym_fP0"
      },
      "source": [
        "Let us again attempt to learn the XOR function using the same MLP network,  this time starting with random initial weights and using back-propogation with simple gradient descent.\n",
        "\n",
        "The error functions for each neuron are\n",
        "\\begin{eqnarray}\n",
        "\\Delta_1^{(2)} &=& {\\partial{J} \\over \\partial a_1^{(2)}}\\,, \\\\\n",
        "\\Delta_1^{(1)} &=&  \\Delta_1^{(2)} W_{11}^{(2)}   \\Theta ( z_1^{(1)} )  \\\\\n",
        "\\Delta_2^{(1)} &=&  \\Delta_1^{(2)} W_{21}^{(2)}  \\Theta ( z_2^{(1)} )  \\,,\n",
        "\\end{eqnarray}\n",
        "since the Heaviside step function $\\Theta$ is the derivative of the ReLU activation function."
      ]
    },
    {
      "cell_type": "code",
      "metadata": {
        "id": "QVbMGrw2__Zm"
      },
      "source": [
        "import numpy as np\n",
        "import matplotlib.pyplot as plt"
      ],
      "execution_count": 1,
      "outputs": []
    },
    {
      "cell_type": "code",
      "metadata": {
        "id": "7udklsBw_TOu"
      },
      "source": [
        "np.random.seed(2)"
      ],
      "execution_count": 2,
      "outputs": []
    },
    {
      "cell_type": "code",
      "metadata": {
        "id": "f_EC8JkUAHwO",
        "outputId": "231d5947-d367-4fe8-da74-bc16aa864b6f",
        "colab": {
          "base_uri": "https://localhost:8080/"
        }
      },
      "source": [
        "X = np.array([[0,0], [0,1], [1,0], [1,1]])\n",
        "print(X)"
      ],
      "execution_count": 3,
      "outputs": [
        {
          "output_type": "stream",
          "name": "stdout",
          "text": [
            "[[0 0]\n",
            " [0 1]\n",
            " [1 0]\n",
            " [1 1]]\n"
          ]
        }
      ]
    },
    {
      "cell_type": "code",
      "metadata": {
        "id": "JzYShJU4ANmR",
        "outputId": "bea8cc96-b2ea-4534-ce49-8f58a56498cf",
        "colab": {
          "base_uri": "https://localhost:8080/"
        }
      },
      "source": [
        "Y = np.array([[0], [1], [1], [0]])\n",
        "print(Y)"
      ],
      "execution_count": 4,
      "outputs": [
        {
          "output_type": "stream",
          "name": "stdout",
          "text": [
            "[[0]\n",
            " [1]\n",
            " [1]\n",
            " [0]]\n"
          ]
        }
      ]
    },
    {
      "cell_type": "markdown",
      "metadata": {
        "id": "E3O5LePZVjzp"
      },
      "source": [
        "Define the MLP model"
      ]
    },
    {
      "cell_type": "code",
      "metadata": {
        "id": "TuU43LLm_Aj1"
      },
      "source": [
        "class MLP(object):\n",
        "\n",
        "  def __init__(self):\n",
        "    # Initialise with random weights\n",
        "    self.weights_11 = 0.1 * np.random.normal(size=(3,2))\n",
        "    self.weights_12 = 0.1 * np.random.normal(size=(3,2))\n",
        "    self.weights_2 = 0.1 * np.random.normal(size=(3,1))\n",
        "\n",
        "  def forward(self, x):\n",
        "    # Do a forward pass\n",
        "    if len(x.shape) == 1:\n",
        "      # Single example, so add a batch dimension of 1\n",
        "      x = np.expand_dims(x, axis=0)\n",
        "    # Hidden layer 1\n",
        "    z_11 = np.matmul(np.hstack((np.ones(shape=(x.shape[0], 1)), x)), self.weights_11)\n",
        "    # Apply ReLU activation function\n",
        "    a_11 = np.maximum(z_11, 0)\n",
        "    # Hidden layer 2\n",
        "    z_12 = np.matmul(np.hstack((np.ones(shape=(a_11.shape[0], 1)), a_11)), self.weights_12)\n",
        "    # Apply ReLU activation function\n",
        "    a_12 = np.maximum(z_12,0)\n",
        "    # Output layer\n",
        "    z_2 = np.matmul(np.hstack((np.ones(shape=(a_12.shape[0], 1)), a_12)), self.weights_2)\n",
        "    # Linear activation \n",
        "    a_2 = 1/(1+np.exp(-z_2))\n",
        "    return z_11, a_11, z_12, a_12, z_2, a_2"
      ],
      "execution_count": 28,
      "outputs": []
    },
    {
      "cell_type": "markdown",
      "metadata": {
        "id": "dSTxT91KjAe4"
      },
      "source": [
        "Push the true solution through the network and check it gives zero loss"
      ]
    },
    {
      "cell_type": "code",
      "metadata": {
        "id": "GGnwcJdzUs1l",
        "outputId": "3ecdc434-0fc2-4eb6-b5a1-81a179629feb",
        "colab": {
          "base_uri": "https://localhost:8080/"
        }
      },
      "source": [
        "m = MLP()\n",
        "m.weights_11 = np.array([[0, -1], [1,1], [1,1]], dtype=float)\n",
        "m.weights_12 = np.array([[1, -1], [0,1], [1,1]], dtype=float)\n",
        "m.weights_2 = np.array([[4], [-3], [1]], dtype=float)\n",
        "z_11, a_11, z_12, a_12, z_2, a_2 = m.forward(X)\n",
        "print(0.25 * np.sum(-Y*np.log(a_2)-(1-Y)*np.log(1-a_2)))"
      ],
      "execution_count": 29,
      "outputs": [
        {
          "output_type": "stream",
          "name": "stdout",
          "text": [
            "0.6582330607786534\n"
          ]
        }
      ]
    },
    {
      "cell_type": "markdown",
      "source": [
        "The loss is not zero. It is impossible to get zero loss using sigmoid function as the activation function."
      ],
      "metadata": {
        "id": "tbV80MIqRwhP"
      }
    },
    {
      "cell_type": "code",
      "metadata": {
        "id": "kkRYVpaF9pQc"
      },
      "source": [
        "num_epochs = 1000\n",
        "learning_rate = 0.15"
      ],
      "execution_count": 9,
      "outputs": []
    },
    {
      "cell_type": "markdown",
      "metadata": {
        "id": "eaq2lIzwqoPY"
      },
      "source": [
        "Update random initial weights and biases by back-prop"
      ]
    },
    {
      "cell_type": "code",
      "metadata": {
        "id": "kaRG-DXJjiD1",
        "outputId": "495c247a-a7a2-45d0-9282-67cfc60fcb5a",
        "colab": {
          "base_uri": "https://localhost:8080/"
        }
      },
      "source": [
        "m = MLP()\n",
        "loss_history = []\n",
        "weights_11_history = []\n",
        "weights_12_history = []\n",
        "weights_2_history = []\n",
        "for epoch in range(num_epochs):\n",
        "  # Do forward pass\n",
        "  z_11, a_11, z_12, a_12, z_2, a_2 = m.forward(X)\n",
        "  loss = 0.25 * np.sum(-Y*np.log(a_2)-(1-Y)*np.log(1-a_2))\n",
        "  loss_history.append(loss)\n",
        "  if epoch % 100 == 0:\n",
        "    print(epoch, loss)\n",
        "  # Delta_2 has shape(4, 1), the first dimension being the batch dimension\n",
        "  delta_2 = 0.5 * (a_2 - Y)\n",
        "  g_prime_12 = np.heaviside(z_12, 0)\n",
        "  # Delta_1 has shape (4, 2)\n",
        "  delta_12 = np.matmul(delta_2, m.weights_2[1:3, :].T) * g_prime_12\n",
        "  g_prime_11 = np.heaviside(z_11, 0)\n",
        "  delta_11 = np.matmul(delta_12, m.weights_12[1:3, :].T) * g_prime_11\n",
        "  # Biases of layers connecting input and hidden layers\n",
        "  m.weights_11[0, :] -= learning_rate * np.sum(delta_11[:, :], axis=0)\n",
        "  # Weights of layers connecting input and hidden layers \n",
        "  m.weights_11[1:3, :] -= learning_rate * np.matmul(X.T, delta_11)\n",
        "  # Biases of layers connecting hidden layer 1 and hidden layer 2\n",
        "  m.weights_12[0, :] -= learning_rate * np.sum(delta_12[:, :], axis=0)\n",
        "  # Weights of layers connecting hidden layer 1 and hidden layer 2\n",
        "  m.weights_12[1:3, :] -= learning_rate * np.matmul(a_11.T, delta_12)\n",
        "  # Biases of layers connecting hidden and output layers\n",
        "  m.weights_2[0, :] -= learning_rate * np.sum(delta_2[:, :], axis=0)\n",
        "  # Weights of layers connecting hidden and output layers\n",
        "  m.weights_2[1:3, :] -= learning_rate * np.matmul(a_12.T, delta_2)\n",
        "  weights_11_history.append(np.copy(m.weights_11))\n",
        "  weights_12_history.append(np.copy(m.weights_12))\n",
        "  weights_2_history.append(np.copy(m.weights_2))\n",
        "loss_history = np.array(loss_history)\n",
        "weights_11_history = np.array(weights_11_history)\n",
        "weights_12_history = np.array(weights_12_history)\n",
        "weights_2_history = np.array(weights_2_history)"
      ],
      "execution_count": 30,
      "outputs": [
        {
          "output_type": "stream",
          "name": "stdout",
          "text": [
            "0 0.6935508325434506\n",
            "100 0.692775670652402\n",
            "200 0.6900881975582341\n",
            "300 0.6312383282513307\n",
            "400 0.07183020032725088\n",
            "500 0.013902591207597514\n",
            "600 0.006747388479628177\n",
            "700 0.004129051647367226\n",
            "800 0.0028827964721207084\n",
            "900 0.0021687776026863004\n"
          ]
        }
      ]
    },
    {
      "cell_type": "code",
      "metadata": {
        "id": "l_UNqVI12Fez",
        "outputId": "8fa70ac7-dc61-4ab0-e3fe-d4d208ed3f66",
        "colab": {
          "base_uri": "https://localhost:8080/",
          "height": 369
        }
      },
      "source": [
        "plt.figure(figsize=(15, 5))\n",
        "ax = plt.subplot(2, 5, 1)\n",
        "ax.plot(loss_history[:])\n",
        "ax.set_xlabel('Epoch', fontsize=14)\n",
        "ax.set_ylabel('Loss', fontsize=14)\n",
        "ax = plt.subplot(2, 5, 2)\n",
        "ax.plot(weights_12_history[:,0,0])\n",
        "ax.set_xlabel('Epoch', fontsize=14)\n",
        "ax.set_ylabel('$c_1$', fontsize=14)\n",
        "ax = plt.subplot(2, 5, 3)\n",
        "ax.plot(weights_12_history[:,0,1])\n",
        "ax.set_xlabel('Epoch', fontsize=14)\n",
        "ax.set_ylabel('$c_2$', fontsize=14)\n",
        "ax = plt.subplot(2, 5, 4)\n",
        "ax.plot(weights_12_history[:,1,0])\n",
        "ax.set_xlabel('Epoch', fontsize=14)\n",
        "ax.set_ylabel('$W_{11}$', fontsize=14)\n",
        "ax = plt.subplot(2, 5, 5)\n",
        "ax.plot(weights_12_history[:,1,1])\n",
        "ax.set_xlabel('Epoch', fontsize=14)\n",
        "ax.set_ylabel('$W_{12}$', fontsize=14)\n",
        "ax = plt.subplot(2, 5, 6)\n",
        "ax.plot(weights_12_history[:,2,0])\n",
        "ax.set_xlabel('Epoch', fontsize=14)\n",
        "ax.set_ylabel('$W_{21}$', fontsize=14)\n",
        "ax = plt.subplot(2, 5, 7)\n",
        "ax.plot(weights_12_history[:,2,1])\n",
        "ax.set_xlabel('Epoch', fontsize=14)\n",
        "ax.set_ylabel('$W_{22}$', fontsize=14)\n",
        "ax = plt.subplot(2, 5, 8)\n",
        "ax.plot(weights_2_history[:,0,0])\n",
        "ax.set_xlabel('Epoch', fontsize=14)\n",
        "ax.set_ylabel('$b$', fontsize=14)\n",
        "ax = plt.subplot(2, 5, 9)\n",
        "ax.plot(weights_2_history[:,1,0])\n",
        "ax.set_xlabel('Epoch', fontsize=14)\n",
        "ax.set_ylabel('$w_1$', fontsize=14)\n",
        "ax = plt.subplot(2, 5, 10)\n",
        "ax.plot(weights_2_history[:,2,0])\n",
        "ax.set_xlabel('Epoch', fontsize=14)\n",
        "ax.set_ylabel('$w_2$', fontsize=14)\n",
        "plt.tight_layout()\n",
        "plt.show()"
      ],
      "execution_count": 35,
      "outputs": [
        {
          "output_type": "display_data",
          "data": {
            "image/png": "[encoded data removed]",
            "text/plain": [
              "<Figure size 1080x360 with 10 Axes>"
            ]
          },
          "metadata": {
            "needs_background": "light"
          }
        }
      ]
    },
    {
      "cell_type": "code",
      "metadata": {
        "id": "lVModDozl3CF",
        "outputId": "db3e5bb6-5718-47e3-befc-3763b41b4ead",
        "colab": {
          "base_uri": "https://localhost:8080/"
        }
      },
      "source": [
        "print(m.weights_11)"
      ],
      "execution_count": 31,
      "outputs": [
        {
          "output_type": "stream",
          "name": "stdout",
          "text": [
            "[[ 1.39157869e+00 -4.32752776e-04]\n",
            " [-1.39643298e+00 -2.21935330e+00]\n",
            " [ 1.43449782e+00  2.21956533e+00]]\n"
          ]
        }
      ]
    },
    {
      "cell_type": "code",
      "source": [
        "print(m.weights_12)"
      ],
      "metadata": {
        "colab": {
          "base_uri": "https://localhost:8080/"
        },
        "id": "tZjJa19DKcLK",
        "outputId": "e4f2a857-904a-4a09-e906-fb99b7efdfb6"
      },
      "execution_count": 32,
      "outputs": [
        {
          "output_type": "stream",
          "name": "stdout",
          "text": [
            "[[-1.94468487e-03  1.55332562e+00]\n",
            " [ 2.35977428e+00 -1.18697649e-01]\n",
            " [-2.84870552e+00  1.06502948e+00]]\n"
          ]
        }
      ]
    },
    {
      "cell_type": "code",
      "metadata": {
        "id": "AbgcccxHoKjC",
        "outputId": "aff174d5-238d-4f19-8b61-ae6976832c0f",
        "colab": {
          "base_uri": "https://localhost:8080/"
        }
      },
      "source": [
        "print(m.weights_2)"
      ],
      "execution_count": 33,
      "outputs": [
        {
          "output_type": "stream",
          "name": "stdout",
          "text": [
            "[[ 2.36699757]\n",
            " [-3.66516023]\n",
            " [ 1.88346388]]\n"
          ]
        }
      ]
    },
    {
      "cell_type": "code",
      "metadata": {
        "id": "nePskL-toOUq",
        "outputId": "0eef41ea-d3cc-4804-a3b4-a58f78e6c640",
        "colab": {
          "base_uri": "https://localhost:8080/"
        }
      },
      "source": [
        "z_11, a_11, z_12, a_12, z_2, a_2 = m.forward(X)\n",
        "print(a_2)"
      ],
      "execution_count": 34,
      "outputs": [
        {
          "output_type": "stream",
          "name": "stdout",
          "text": [
            "[[8.69221465e-04]\n",
            " [9.99609109e-01]\n",
            " [9.94996643e-01]\n",
            " [6.20246032e-04]]\n"
          ]
        }
      ]
    }
  ]
}