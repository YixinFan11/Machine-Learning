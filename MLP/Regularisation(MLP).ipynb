{
  "nbformat": 4,
  "nbformat_minor": 0,
  "metadata": {
    "colab": {
      "name": "Regularisation(MLP).ipynb",
      "provenance": [],
      "include_colab_link": true
    },
    "kernelspec": {
      "name": "python3",
      "display_name": "Python 3"
    }
  },
  "cells": [
    {
      "cell_type": "markdown",
      "metadata": {
        "id": "view-in-github",
        "colab_type": "text"
      },
      "source": [
        "<a href=\"https://colab.research.google.com/github/YixinFan11/Machine-Learning-in-Science-II/blob/master/Regularisation(MLP).ipynb\" target=\"_parent\"><img src=\"https://colab.research.google.com/assets/colab-badge.svg\" alt=\"Open In Colab\"/></a>"
      ]
    },
    {
      "cell_type": "markdown",
      "metadata": {
        "id": "f9lgu7n44eFs"
      },
      "source": [
        "**Regularisation**\n",
        "\n",
        "In this example you are given a dataset (MNIST) with a limited number of training examples (only 1000 compared to the usual 60,000). \n",
        "\n",
        "Your goal is to implement regularisation methods to achive the **lowest possible test loss using this dataset**. \n",
        "\n",
        "You should consider methods given in the lectures including:\n",
        "\n",
        "*   Data augmentation\n",
        "*   Early stopping\n",
        "*   L1/L2 penalty norms\n",
        "*   Dropout\n",
        "\n",
        "You are free to change the network architecture and model complexity, but the main purpose of the workshop is to investigate regularisation (next week you will look at CNN architectures in detail). \n",
        "\n",
        "You are also free to change the choice of optimiser, and other hyper-parameters such as the batch size.  \n"
      ]
    },
    {
      "cell_type": "code",
      "metadata": {
        "id": "cNviuTwum6vs"
      },
      "source": [
        "try:\n",
        "  # %tensorflow_version only exists in Colab.\n",
        "  %tensorflow_version 2.x\n",
        "except Exception:\n",
        "  pass"
      ],
      "execution_count": null,
      "outputs": []
    },
    {
      "cell_type": "code",
      "metadata": {
        "id": "ARZRYjHQnE-0"
      },
      "source": [
        "from __future__ import absolute_import, division, print_function, unicode_literals\n",
        "\n",
        "import tensorflow as tf\n",
        "\n",
        "from tensorflow.keras.layers import Dense, Flatten, Conv2D\n",
        "from tensorflow.keras import Model\n",
        "from tensorflow.keras.preprocessing.image import ImageDataGenerator\n",
        "\n",
        "import matplotlib.pyplot as plt\n",
        "\n",
        "import numpy as np"
      ],
      "execution_count": null,
      "outputs": []
    },
    {
      "cell_type": "code",
      "metadata": {
        "id": "7I-MxTxAnH2d"
      },
      "source": [
        "tf.random.set_seed(1)"
      ],
      "execution_count": null,
      "outputs": []
    },
    {
      "cell_type": "code",
      "metadata": {
        "id": "cxO576eJnMXN",
        "colab": {
          "base_uri": "https://localhost:8080/"
        },
        "outputId": "b8ef8e05-86a5-4681-fda5-7406c20ec7af"
      },
      "source": [
        "print(tf.__version__)"
      ],
      "execution_count": null,
      "outputs": [
        {
          "output_type": "stream",
          "text": [
            "2.4.0\n"
          ],
          "name": "stdout"
        }
      ]
    },
    {
      "cell_type": "markdown",
      "metadata": {
        "id": "q4F_HTQpnvSk"
      },
      "source": [
        "First load the MNIST dataset and add a channels dimension (channels last convention)"
      ]
    },
    {
      "cell_type": "code",
      "metadata": {
        "id": "Twdc-t9FnN_9"
      },
      "source": [
        "mnist = tf.keras.datasets.mnist\n",
        "(x_train, y_train), (x_test, y_test) = mnist.load_data()\n",
        "\n",
        "x_train = x_train[..., tf.newaxis].astype(np.float32)\n",
        "x_test = x_test[..., tf.newaxis].astype(np.float32)\n",
        "\n",
        "img_rows = x_train.shape[1]\n",
        "img_cols = x_train.shape[2]"
      ],
      "execution_count": null,
      "outputs": []
    },
    {
      "cell_type": "markdown",
      "metadata": {
        "id": "IEsWYkNz5Po7"
      },
      "source": [
        "Let's use a much smaller training dataset of 1000 examples so overfitting is more problematic"
      ]
    },
    {
      "cell_type": "code",
      "metadata": {
        "id": "Qzt-HoIo4yks",
        "colab": {
          "base_uri": "https://localhost:8080/"
        },
        "outputId": "fa29683d-8787-4e57-bd38-1b5386df1467"
      },
      "source": [
        "n_train = 1000\n",
        "x_train = x_train[0:n_train, :]\n",
        "y_train = y_train[0:n_train]\n",
        "\n",
        "print(x_train.shape)\n",
        "print(x_test.shape)"
      ],
      "execution_count": null,
      "outputs": [
        {
          "output_type": "stream",
          "text": [
            "(1000, 28, 28, 1)\n",
            "(10000, 28, 28, 1)\n"
          ],
          "name": "stdout"
        }
      ]
    },
    {
      "cell_type": "code",
      "metadata": {
        "id": "x2JSWYGKjsPh"
      },
      "source": [
        "def plotImages(images_arr):\n",
        "    fig, axes = plt.subplots(1, 5, figsize=(15, 15))\n",
        "    axes = axes.flatten()\n",
        "    for img, ax in zip( images_arr, axes):\n",
        "        ax.imshow(np.squeeze(img))\n",
        "        ax.axis('off')\n",
        "    plt.tight_layout()\n",
        "    plt.show()"
      ],
      "execution_count": null,
      "outputs": []
    },
    {
      "cell_type": "markdown",
      "metadata": {
        "id": "oDfQh4AfoBAH"
      },
      "source": [
        "Let's visualise several training examples - to do this we use the keras ImageDataGenerator. We rescale images by 1/255 to normalise them in the range (0, 1)"
      ]
    },
    {
      "cell_type": "code",
      "metadata": {
        "id": "fuOz9BopjZPq",
        "colab": {
          "base_uri": "https://localhost:8080/",
          "height": 234
        },
        "outputId": "45df3d4a-e467-44ee-ee38-62ea5fdf4bb3"
      },
      "source": [
        "image_generator = ImageDataGenerator(rescale=1./255) \n",
        "data_gen = image_generator.flow(x_train, y_train, batch_size=32) \n",
        "sample_images, sample_labels = next(data_gen)\n",
        "plotImages(sample_images[:5])"
      ],
      "execution_count": null,
      "outputs": [
        {
          "output_type": "display_data",
          "data": {
            "image/png": "[encoded data removed]",
            "text/plain": [
              "<Figure size 1080x1080 with 5 Axes>"
            ]
          },
          "metadata": {
            "tags": [],
            "needs_background": "light"
          }
        }
      ]
    },
    {
      "cell_type": "markdown",
      "metadata": {
        "id": "H8bStvJVoVlj"
      },
      "source": [
        "One regularisation method to deal with over-fitting is data augmentation. The image generator can apply various transformations to data - here we apply a random rotation of upto 20 degrees and visualise the same training example with different augmentations"
      ]
    },
    {
      "cell_type": "code",
      "metadata": {
        "id": "iz28zlncmIiP",
        "colab": {
          "base_uri": "https://localhost:8080/",
          "height": 234
        },
        "outputId": "079fa9d6-0ba7-45a8-d9eb-4ec24a66d089"
      },
      "source": [
        "image_generator = ImageDataGenerator(rescale=1./255, \n",
        "                                     rotation_range=20) \n",
        "data_gen = image_generator.flow(x_train, y_train, batch_size=32) \n",
        "augmented_images = [data_gen[0][0][0] for i in range(5)]\n",
        "plotImages(augmented_images)"
      ],
      "execution_count": null,
      "outputs": [
        {
          "output_type": "display_data",
          "data": {
            "image/png": "[encoded data removed]",
            "text/plain": [
              "<Figure size 1080x1080 with 5 Axes>"
            ]
          },
          "metadata": {
            "tags": [],
            "needs_background": "light"
          }
        }
      ]
    },
    {
      "cell_type": "markdown",
      "metadata": {
        "id": "mIE6-wlA3J4h"
      },
      "source": [
        "Define a basic CNN with 32 convolutional filters using a 3x3 kernel, followed by a dense fully connected layer of 128 units and an output layer of 10 units with softmax activation "
      ]
    },
    {
      "cell_type": "code",
      "metadata": {
        "id": "ZKolHZQUL8-4"
      },
      "source": [
        "class BasicCNN(Model):\n",
        "  def __init__(self):\n",
        "    super(BasicCNN, self).__init__()\n",
        "    self.conv1 = Conv2D(32, 3, activation='relu')\n",
        "    self.flatten = Flatten()\n",
        "    self.d1 = Dense(128, activation='relu')\n",
        "    self.d2 = Dense(10, activation='softmax')\n",
        "\n",
        "  def call(self, x):\n",
        "    x = self.conv1(x)\n",
        "    x = self.flatten(x)\n",
        "    x = self.d1(x)\n",
        "    return self.d2(x)"
      ],
      "execution_count": null,
      "outputs": []
    },
    {
      "cell_type": "markdown",
      "metadata": {
        "id": "BuhNDi134B2G"
      },
      "source": [
        "Main training routine - uses the more detailed Gradient Tape API to iterate over the dataset and update the weights"
      ]
    },
    {
      "cell_type": "code",
      "metadata": {
        "id": "MZH8jdqKohiU"
      },
      "source": [
        "def trainer(cls, train_image_generator, test_image_generator, \n",
        "            verbose=False, batch_size=32, max_epochs=5):\n",
        "  \n",
        "  model = cls()\n",
        "\n",
        "  train_data_gen = train_image_generator.flow(x_train, y_train, \n",
        "                                              batch_size=batch_size) \n",
        "\n",
        "  test_data_gen = test_image_generator.flow(x_test, y_test, \n",
        "                                              batch_size=batch_size) \n",
        "\n",
        "  loss_object = tf.keras.losses.SparseCategoricalCrossentropy()\n",
        "  optimizer = tf.keras.optimizers.Adam()\n",
        "\n",
        "  train_loss = tf.keras.metrics.Mean(name='train_loss')\n",
        "  train_accuracy = tf.keras.metrics.SparseCategoricalAccuracy(\n",
        "      name='train_accuracy')\n",
        "\n",
        "  test_loss = tf.keras.metrics.Mean(name='test_loss')\n",
        "  test_accuracy = tf.keras.metrics.SparseCategoricalAccuracy(\n",
        "      name='test_accuracy')\n",
        "\n",
        "  @tf.function\n",
        "  def train_step(images, labels):\n",
        "    with tf.GradientTape() as tape:\n",
        "      predictions = model(images, training=True)\n",
        "      loss = loss_object(labels, predictions)\n",
        "    gradients = tape.gradient(loss, model.trainable_variables)\n",
        "    optimizer.apply_gradients(zip(gradients, model.trainable_variables))\n",
        "    train_loss(loss)\n",
        "    train_accuracy(labels, predictions)\n",
        "\n",
        "  @tf.function\n",
        "  def test_step(images, labels):\n",
        "    predictions = model(images, training=False)\n",
        "    t_loss = loss_object(labels, predictions)\n",
        "    test_loss(t_loss)\n",
        "    test_accuracy(labels, predictions)\n",
        "\n",
        "  for epoch in range(max_epochs):\n",
        "    # Reset the metrics at the start of the next epoch\n",
        "    train_loss.reset_states()\n",
        "    train_accuracy.reset_states()\n",
        "    test_loss.reset_states()\n",
        "    test_accuracy.reset_states()\n",
        "\n",
        "    batches = 0\n",
        "    for images, labels in train_data_gen:\n",
        "      train_step(images, labels)\n",
        "      batches += 1\n",
        "      if batches >= len(x_train) / batch_size:\n",
        "        break\n",
        "\n",
        "    batches = 0\n",
        "    for images, labels in test_data_gen:\n",
        "      test_step(images, labels)\n",
        "      batches += 1\n",
        "      if batches >= len(x_test) / batch_size:\n",
        "        break\n",
        "\n",
        "    if verbose:\n",
        "      template = 'Epoch {}, Loss: {}, Accuracy: {}, Test Loss: {}, Test Accuracy: {}'\n",
        "      print(template.format(epoch+1,\n",
        "                            train_loss.result(),\n",
        "                            train_accuracy.result()*100,\n",
        "                            test_loss.result(),\n",
        "                            test_accuracy.result()*100))\n",
        "    \n",
        "  return test_loss.result().numpy()"
      ],
      "execution_count": null,
      "outputs": []
    },
    {
      "cell_type": "markdown",
      "metadata": {
        "id": "BBSBEZftgDsL"
      },
      "source": [
        "Baseline run with no regularisation"
      ]
    },
    {
      "cell_type": "code",
      "metadata": {
        "id": "LkemC6SvTLOH",
        "colab": {
          "base_uri": "https://localhost:8080/"
        },
        "outputId": "6a9f1162-25a7-490a-c899-1e84b915da4c"
      },
      "source": [
        "train_image_generator = ImageDataGenerator(rescale=1./255) \n",
        "test_image_generator = ImageDataGenerator(rescale=1./255) \n",
        "final_test_loss = trainer(BasicCNN, train_image_generator, test_image_generator, \n",
        "                          verbose=True, max_epochs=20)\n",
        "print('Final test loss:', final_test_loss)"
      ],
      "execution_count": null,
      "outputs": [
        {
          "output_type": "stream",
          "text": [
            "Epoch 1, Loss: 0.9243161082267761, Accuracy: 72.0, Test Loss: 0.5036622285842896, Test Accuracy: 84.16999816894531\n",
            "Epoch 2, Loss: 0.32323187589645386, Accuracy: 89.5, Test Loss: 0.523266613483429, Test Accuracy: 83.31000518798828\n",
            "Epoch 3, Loss: 0.18126140534877777, Accuracy: 94.5, Test Loss: 0.3836420178413391, Test Accuracy: 88.63999938964844\n",
            "Epoch 4, Loss: 0.08511870354413986, Accuracy: 97.5999984741211, Test Loss: 0.36997857689857483, Test Accuracy: 89.31000518798828\n",
            "Epoch 5, Loss: 0.0334366112947464, Accuracy: 99.80000305175781, Test Loss: 0.4111275374889374, Test Accuracy: 88.77999877929688\n",
            "Epoch 6, Loss: 0.012296376749873161, Accuracy: 100.0, Test Loss: 0.39898648858070374, Test Accuracy: 89.4800033569336\n",
            "Epoch 7, Loss: 0.006266467273235321, Accuracy: 100.0, Test Loss: 0.41392219066619873, Test Accuracy: 89.47000122070312\n",
            "Epoch 8, Loss: 0.004149510059505701, Accuracy: 100.0, Test Loss: 0.42453035712242126, Test Accuracy: 89.42000579833984\n",
            "Epoch 9, Loss: 0.0031724227592349052, Accuracy: 100.0, Test Loss: 0.43375667929649353, Test Accuracy: 89.58000183105469\n",
            "Epoch 10, Loss: 0.0024599162861704826, Accuracy: 100.0, Test Loss: 0.4378785789012909, Test Accuracy: 89.59000396728516\n",
            "Epoch 11, Loss: 0.002072335220873356, Accuracy: 100.0, Test Loss: 0.4456501305103302, Test Accuracy: 89.66000366210938\n",
            "Epoch 12, Loss: 0.0016394195845350623, Accuracy: 100.0, Test Loss: 0.44933322072029114, Test Accuracy: 89.66000366210938\n",
            "Epoch 13, Loss: 0.0013867204543203115, Accuracy: 100.0, Test Loss: 0.4548547565937042, Test Accuracy: 89.70000457763672\n",
            "Epoch 14, Loss: 0.0011522655840963125, Accuracy: 100.0, Test Loss: 0.45876333117485046, Test Accuracy: 89.66000366210938\n",
            "Epoch 15, Loss: 0.0010282685980200768, Accuracy: 100.0, Test Loss: 0.4646100401878357, Test Accuracy: 89.74000549316406\n",
            "Epoch 16, Loss: 0.0008960912236943841, Accuracy: 100.0, Test Loss: 0.4684871435165405, Test Accuracy: 89.81000518798828\n",
            "Epoch 17, Loss: 0.0008147943881340325, Accuracy: 100.0, Test Loss: 0.47155898809432983, Test Accuracy: 89.83000183105469\n",
            "Epoch 18, Loss: 0.0007098278147168458, Accuracy: 100.0, Test Loss: 0.4717405140399933, Test Accuracy: 89.80000305175781\n",
            "Epoch 19, Loss: 0.0006130841211415827, Accuracy: 100.0, Test Loss: 0.47912535071372986, Test Accuracy: 89.87000274658203\n",
            "Epoch 20, Loss: 0.0005588470958173275, Accuracy: 100.0, Test Loss: 0.4817715883255005, Test Accuracy: 89.84000396728516\n",
            "Final test loss: 0.4817716\n"
          ],
          "name": "stdout"
        }
      ]
    },
    {
      "cell_type": "code",
      "metadata": {
        "id": "Lx1vid62esyU"
      },
      "source": [
        ""
      ],
      "execution_count": null,
      "outputs": []
    }
  ]
}
